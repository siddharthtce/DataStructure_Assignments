{
 "cells": [
  {
   "cell_type": "code",
   "execution_count": 16,
   "id": "304d7976-e040-4863-9cb5-1c381aa37e5b",
   "metadata": {},
   "outputs": [],
   "source": [
    "#1. Given an array of n numbers, give an algorithm which gives the element appearing maximum number of times?\n",
    "\n",
    "def maxOccurrance(arr):\n",
    "    max_count=0\n",
    "    element=0\n",
    "    for i in range(0,len(arr)):\n",
    "        count=1\n",
    "        for j in range(i+1,len(arr)):\n",
    "            if arr[i]==arr[j]:\n",
    "                count+=1\n",
    "        if count>max_count:\n",
    "            max_count=count\n",
    "            element=arr[i]\n",
    "    print(\"The element\",element,\"occurs\",max_count,\"times\")\n",
    "    \n"
   ]
  },
  {
   "cell_type": "code",
   "execution_count": 17,
   "id": "56c9a7a2-0f0e-4de9-a2be-736df5d6eee0",
   "metadata": {},
   "outputs": [
    {
     "name": "stdout",
     "output_type": "stream",
     "text": [
      "The element 2 occurs 3 times\n"
     ]
    }
   ],
   "source": [
    "maxOccurrance([3,2,4,1,4,2,5,5,2])"
   ]
  },
  {
   "cell_type": "code",
   "execution_count": 13,
   "id": "688c2e85-68f3-400e-9e28-7f508eba400f",
   "metadata": {},
   "outputs": [],
   "source": [
    "'''\n",
    "#2. We are given a list of n-1 integers and these integers are in the range of 1 to n . \n",
    "There are no duplicates in the list. One of the integers is missing in the list. \n",
    "Give an algorithm to find that element Ex: [1,2,4,6,3,7,8] 5 is the missing num.\n",
    "'''\n",
    "\n",
    "def sumOfN(n):\n",
    "    sum=n*(n+1)/2\n",
    "    return sum\n",
    "\n",
    "def sumOfArray(arr,sI):\n",
    "    if sI>=len(arr):\n",
    "        return 0\n",
    "    else:\n",
    "        return arr[sI]+sumOfArray(arr,sI+1)\n",
    "\n",
    "def findMissingNum(arr,n):\n",
    "    missingNumber = int(sumOfN(n) - sumOfArray(arr,0))\n",
    "    return missingNumber\n",
    "    \n"
   ]
  },
  {
   "cell_type": "code",
   "execution_count": 14,
   "id": "17fae4a2-da24-4932-8a36-ce85e298029d",
   "metadata": {},
   "outputs": [
    {
     "data": {
      "text/plain": [
       "5"
      ]
     },
     "execution_count": 14,
     "metadata": {},
     "output_type": "execute_result"
    }
   ],
   "source": [
    "arr=[1,2,4,6,3,7,8]\n",
    "sumOfN(8)\n",
    "sumOfArray(arr,0)\n",
    "findMissingNum(arr,8)"
   ]
  },
  {
   "cell_type": "code",
   "execution_count": 27,
   "id": "537d1c7b-6e6c-4d85-be52-45e44dd31a55",
   "metadata": {},
   "outputs": [],
   "source": [
    "'''\n",
    "Problem 3 : Given an array of n positive numbers. All numbers occurs even number of times except 1 which occurs odd number of \n",
    "times. Find that number in O(n) time and O(1) space. Ex: [1,2,3,2,3,1,3]. 3 is repeats odd times.\n",
    "'''\n",
    "\n",
    "def oddOccurance(arr):\n",
    "    value=0\n",
    "    for i in range(0,len(arr)):\n",
    "        value=value^arr[i]\n",
    "    return value\n",
    "\n"
   ]
  },
  {
   "cell_type": "code",
   "execution_count": 30,
   "id": "7dc0f535-ac1a-4bc7-9950-0a9885bb4539",
   "metadata": {},
   "outputs": [
    {
     "data": {
      "text/plain": [
       "3"
      ]
     },
     "execution_count": 30,
     "metadata": {},
     "output_type": "execute_result"
    }
   ],
   "source": [
    "oddOccurance([3,2,1,2,1])"
   ]
  },
  {
   "cell_type": "code",
   "execution_count": 50,
   "id": "9aeb33cb-85de-4920-858f-260774a0cedb",
   "metadata": {},
   "outputs": [],
   "source": [
    "'''\n",
    "Problem 4 : Given an array of n elements. Find two elements in the array such that their sum is equal to given element K.\n",
    "'''\n",
    "def sumVerification(arr,k):\n",
    "    for i in range(len(arr)):\n",
    "        for j in range(i+1,len(arr)):\n",
    "            if arr[i]+arr[j]==k:\n",
    "                return arr[i],arr[j]\n",
    "    return 0"
   ]
  },
  {
   "cell_type": "code",
   "execution_count": 51,
   "id": "c35d6ee4-ffdd-4fab-9813-5fd263bf1b61",
   "metadata": {},
   "outputs": [
    {
     "data": {
      "text/plain": [
       "(4, 4)"
      ]
     },
     "execution_count": 51,
     "metadata": {},
     "output_type": "execute_result"
    }
   ],
   "source": [
    "sumVerification([4,1,3,1,3,11,4,5,4],8)"
   ]
  },
  {
   "cell_type": "code",
   "execution_count": 67,
   "id": "962fc8b5-9f69-4b57-92f4-d8b73dca2e04",
   "metadata": {},
   "outputs": [],
   "source": [
    "'''\n",
    "Problem 5 : Given an array of both positive and negative numbers, find two numbers such that their sum is closest to 0. \n",
    "Ex: [ 1 ,60 ,-10, 70, -80,85]\n",
    "'''\n",
    "def minimumSumVerification(arr):\n",
    "    absSum=999999999\n",
    "    value1=0\n",
    "    value2=0\n",
    "    for i in range(len(arr)):\n",
    "        for j in range(i+1,len(arr)):\n",
    "            if abs(arr[i]+arr[j])<abs(absSum):\n",
    "                absSum=arr[i]+arr[j]\n",
    "                value1=arr[i]\n",
    "                value2=arr[j]\n",
    "    return absSum,value1,value2"
   ]
  },
  {
   "cell_type": "code",
   "execution_count": 68,
   "id": "f0c5deda-ea55-487d-a870-e07c442644ca",
   "metadata": {},
   "outputs": [
    {
     "data": {
      "text/plain": [
       "(5, -80, 85)"
      ]
     },
     "execution_count": 68,
     "metadata": {},
     "output_type": "execute_result"
    }
   ],
   "source": [
    "minimumSumVerification([ 1 ,60 ,-10, 70, -80,85])"
   ]
  },
  {
   "cell_type": "code",
   "execution_count": null,
   "id": "a001ee26-739d-4ac7-97d3-8cab4e6b110d",
   "metadata": {},
   "outputs": [],
   "source": []
  }
 ],
 "metadata": {
  "kernelspec": {
   "display_name": "Python 3 (ipykernel)",
   "language": "python",
   "name": "python3"
  },
  "language_info": {
   "codemirror_mode": {
    "name": "ipython",
    "version": 3
   },
   "file_extension": ".py",
   "mimetype": "text/x-python",
   "name": "python",
   "nbconvert_exporter": "python",
   "pygments_lexer": "ipython3",
   "version": "3.10.8"
  }
 },
 "nbformat": 4,
 "nbformat_minor": 5
}
