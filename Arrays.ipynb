{
 "cells": [
  {
   "cell_type": "code",
   "execution_count": 6,
   "id": "1f28b1ec-3fc8-4b69-aecc-ff28c4250c7d",
   "metadata": {},
   "outputs": [
    {
     "name": "stdout",
     "output_type": "stream",
     "text": [
      "Array contains duplicates\n"
     ]
    }
   ],
   "source": [
    "#1 Given an array, check if it contains any duplicates or not\n",
    "\n",
    "arr=[1,2,4,2,5,9]\n",
    "count=0\n",
    "for i in range(0,len(arr)):\n",
    "    for j in range(i+1,len(arr)):\n",
    "        if arr[i]==arr[j]:\n",
    "            count+=1\n",
    "            \n",
    "if count!=0:\n",
    "    print(\"Array contains duplicates\")\n",
    "else:\n",
    "    print(\"Array does not contain duplicates\")\n",
    "            \n"
   ]
  },
  {
   "cell_type": "code",
   "execution_count": 15,
   "id": "b05c05af-34c5-4f9e-8fb8-0d84078455d4",
   "metadata": {},
   "outputs": [
    {
     "name": "stdout",
     "output_type": "stream",
     "text": [
      "[5, 6, 7, 1, 2, 3, 4]\n"
     ]
    }
   ],
   "source": [
    "#2 Given an array and an integer k, rotate the array to the right by k steps.\n",
    "\n",
    "arr=[1,2,3,4,5,6,7]\n",
    "k=3\n",
    "\n",
    "for i in range(k):\n",
    "    temp=arr[len(arr)-1]\n",
    "    for j in range(len(arr)-1,0,-1):\n",
    "        arr[j]=arr[j-1]\n",
    "    arr[0]=temp\n",
    "\n",
    "print(arr)\n"
   ]
  },
  {
   "cell_type": "code",
   "execution_count": 9,
   "id": "77ad9382-eedb-43bd-99a4-17110ccfc328",
   "metadata": {},
   "outputs": [
    {
     "name": "stdout",
     "output_type": "stream",
     "text": [
      "[12, 9, 7, 5, 4, 2]\n"
     ]
    }
   ],
   "source": [
    "#3 Reverse the given array in-place, means without using any extra data structure\n",
    "\n",
    "arr=[2,4,5,7,9,12]\n",
    "\n",
    "for i in range(0,len(arr)):\n",
    "    for j in range(i+1,len(arr)):\n",
    "        if arr[i]<arr[j]:\n",
    "            arr[i],arr[j]=arr[j],arr[i]\n",
    "print(arr)"
   ]
  },
  {
   "cell_type": "code",
   "execution_count": 11,
   "id": "d7f221b8-5ad9-4496-82b1-1ae3ac03e676",
   "metadata": {},
   "outputs": [
    {
     "name": "stdout",
     "output_type": "stream",
     "text": [
      "20\n"
     ]
    }
   ],
   "source": [
    "#4 Given an array of integers, find the maximum element in an array\n",
    "\n",
    "arr=[10,5,20,8,15]\n",
    "max=0\n",
    "\n",
    "for i in arr:\n",
    "    if i>max:\n",
    "        max=i\n",
    "        \n",
    "print(max)"
   ]
  },
  {
   "cell_type": "code",
   "execution_count": 9,
   "id": "f8b59135-ea85-4930-9014-d0b5716c0c38",
   "metadata": {},
   "outputs": [
    {
     "name": "stdout",
     "output_type": "stream",
     "text": [
      "[1, 2, 3, 4, 5]\n"
     ]
    }
   ],
   "source": [
    "#5 Given a sorted array, remove the duplicate element without using any extra data structure\n",
    "\n",
    "arr=[1,1,2,2,2,3,3,4,4,4,5,5]\n",
    "i=1\n",
    "for j in range(1,len(arr)):\n",
    "    if arr[j]!=arr[j-1]:\n",
    "        arr[i]=arr[j]\n",
    "        i+=1\n",
    "    \n",
    "arr = arr[:i]\n",
    "print(arr)\n",
    "              \n",
    "    "
   ]
  }
 ],
 "metadata": {
  "kernelspec": {
   "display_name": "Python 3 (ipykernel)",
   "language": "python",
   "name": "python3"
  },
  "language_info": {
   "codemirror_mode": {
    "name": "ipython",
    "version": 3
   },
   "file_extension": ".py",
   "mimetype": "text/x-python",
   "name": "python",
   "nbconvert_exporter": "python",
   "pygments_lexer": "ipython3",
   "version": "3.10.8"
  }
 },
 "nbformat": 4,
 "nbformat_minor": 5
}
