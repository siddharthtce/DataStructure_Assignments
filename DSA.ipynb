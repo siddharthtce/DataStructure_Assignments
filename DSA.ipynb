{
 "cells": [
  {
   "cell_type": "code",
   "execution_count": 5,
   "id": "d19e7380-1866-451e-b19f-8236b4b210dd",
   "metadata": {},
   "outputs": [],
   "source": [
    "class Node:\n",
    "    def __init__(self,data=None,next=None):\n",
    "        self.data=data\n",
    "        self.next=next\n",
    "        \n",
    "    def setData(self,data):\n",
    "        self.data=data\n",
    "    \n",
    "    def getData(self):\n",
    "        return self.data\n",
    "    \n",
    "    def setNext(self,next):\n",
    "        self.next=next\n",
    "        \n",
    "    def getNext(self):\n",
    "        return self.next"
   ]
  },
  {
   "cell_type": "code",
   "execution_count": 6,
   "id": "107dd7f6-1bfe-496a-b7fc-f00fc67828fe",
   "metadata": {},
   "outputs": [],
   "source": [
    "head=Node(1)\n",
    "node1=Node(2)\n",
    "node2=Node(3)\n",
    "node3=Node(4)\n",
    "node4=Node(5)\n",
    "\n",
    "head.setNext(node1)\n",
    "node1.setNext(node2)\n",
    "node2.setNext(node3)\n",
    "node3.setNext(node4)"
   ]
  },
  {
   "cell_type": "code",
   "execution_count": null,
   "id": "bf11d9bf-8418-41f0-af57-aaa5529964e7",
   "metadata": {},
   "outputs": [],
   "source": [
    "#1. Reverse a singly linked list\n",
    "\n"
   ]
  },
  {
   "cell_type": "code",
   "execution_count": 39,
   "id": "9dddb7a9-c309-4639-90b9-08a16ef5e2bc",
   "metadata": {},
   "outputs": [],
   "source": [
    "#22. Find the kth largest element in an unsorted array.\n",
    "\n",
    "def selection_sort(arr):\n",
    "    for i in range(len(arr)): #Iterating through entire arrray\n",
    "        min=i\n",
    "        for j in range(i+1,len(arr)):\n",
    "            if arr[j]<arr[min]:\n",
    "                min=j\n",
    "        #Swapping the element 'i' with smallest value\n",
    "        arr[i],arr[min]=arr[min],arr[i]\n",
    "        \n",
    "def find_kth_largest_value(arr,k):\n",
    "    selection_sort(arr)\n",
    "    return arr[-k]\n",
    "            \n"
   ]
  },
  {
   "cell_type": "code",
   "execution_count": 41,
   "id": "b6e7e4b9-c23a-42f4-af7a-ff6eaba4c983",
   "metadata": {},
   "outputs": [
    {
     "data": {
      "text/plain": [
       "5"
      ]
     },
     "execution_count": 41,
     "metadata": {},
     "output_type": "execute_result"
    }
   ],
   "source": [
    "find_kth_largest_value([3, 5, 2, 1, 6, 4],2)"
   ]
  },
  {
   "cell_type": "code",
   "execution_count": 34,
   "id": "1585cb35-b116-4cb4-bd8a-28807e90a6f0",
   "metadata": {},
   "outputs": [],
   "source": [
    "#24. Given an unsorted array, reorder it in-place such that nums[0] <= nums[1] >= nums[2] <= nums[3]...\n",
    "\n",
    "def sortWaveForm(arr):\n",
    "    for i in range(0,len(arr)-1,2): #Verifying elements at even index\n",
    "        if i>0 and arr[i]>arr[i-1]: #Comparing with left elements\n",
    "            arr[i],arr[i-1]=arr[i-1],arr[i]\n",
    "            \n",
    "        if i<len(arr)-1 and arr[i]>arr[i+1]: #Comparing with right elements\n",
    "            arr[i],arr[i+1]=arr[i+1],arr[i]\n",
    "    return arr"
   ]
  },
  {
   "cell_type": "code",
   "execution_count": 35,
   "id": "219b886e-dab7-40bd-8782-aee23cfa47b2",
   "metadata": {},
   "outputs": [
    {
     "data": {
      "text/plain": [
       "[3, 5, 1, 6, 2, 4]"
      ]
     },
     "execution_count": 35,
     "metadata": {},
     "output_type": "execute_result"
    }
   ],
   "source": [
    "sortWaveForm([3, 5, 2, 1, 6, 4])"
   ]
  },
  {
   "cell_type": "code",
   "execution_count": 30,
   "id": "2d570444-e67d-4b69-b897-51053aae17c8",
   "metadata": {},
   "outputs": [],
   "source": [
    "#25. Given an array of integers, calculate the sum of all its elements\n",
    "\n",
    "def sum_recursion(arr,sI):\n",
    "    if sI<0 or sI>len(arr)-1:\n",
    "        return \n",
    "    elif sI==len(arr)-1:\n",
    "        return arr[sI]\n",
    "    else:\n",
    "        return arr[sI]+sum_recursion(arr,sI+1)"
   ]
  },
  {
   "cell_type": "code",
   "execution_count": 31,
   "id": "742fb2e9-8523-46e3-b1a5-c10355ac57b8",
   "metadata": {},
   "outputs": [
    {
     "data": {
      "text/plain": [
       "26"
      ]
     },
     "execution_count": 31,
     "metadata": {},
     "output_type": "execute_result"
    }
   ],
   "source": [
    "sum_recursion([3, 7, 2, 9, 4, 1],0)"
   ]
  },
  {
   "cell_type": "code",
   "execution_count": 15,
   "id": "d65b8403-baea-4c95-b11d-0eccc0ba9de6",
   "metadata": {},
   "outputs": [],
   "source": [
    "#26. Find the maximum element in an array of integers\n",
    "\n",
    "def max_element(arr):\n",
    "    max=0\n",
    "    for i in range(len(arr)):\n",
    "        if arr[i]>max:\n",
    "            max=arr[i]\n",
    "    return max"
   ]
  },
  {
   "cell_type": "code",
   "execution_count": 16,
   "id": "49fd3ca1-121b-4a13-a988-0dc60d2588a9",
   "metadata": {},
   "outputs": [
    {
     "data": {
      "text/plain": [
       "9"
      ]
     },
     "execution_count": 16,
     "metadata": {},
     "output_type": "execute_result"
    }
   ],
   "source": [
    "max_element([3, 7, 2, 9, 4, 1])"
   ]
  },
  {
   "cell_type": "code",
   "execution_count": 13,
   "id": "911af5d9-0645-4f8c-afd4-9ca51c27749b",
   "metadata": {},
   "outputs": [],
   "source": [
    "#27. Implement linear search to find the index of a target element in an array\n",
    "\n",
    "def linear_search(arr,target):\n",
    "    for i in range(len(arr)):\n",
    "        if arr[i]==target:\n",
    "            return i\n",
    "    return -1"
   ]
  },
  {
   "cell_type": "code",
   "execution_count": 14,
   "id": "dc61df6e-be71-4e26-8dcd-7395140d1966",
   "metadata": {},
   "outputs": [
    {
     "data": {
      "text/plain": [
       "2"
      ]
     },
     "execution_count": 14,
     "metadata": {},
     "output_type": "execute_result"
    }
   ],
   "source": [
    "linear_search([5, 3, 8, 2, 7, 4],8)"
   ]
  },
  {
   "cell_type": "code",
   "execution_count": 11,
   "id": "81427091-2e46-446c-878f-c5659a395b1f",
   "metadata": {},
   "outputs": [],
   "source": [
    "#28. Calculate the factorial of a given number\n",
    "\n",
    "def fact(n):\n",
    "    if n<=1:\n",
    "        return 1\n",
    "    else:\n",
    "        return n*fact(n-1)"
   ]
  },
  {
   "cell_type": "code",
   "execution_count": 12,
   "id": "05d9deef-d2d9-4a9c-969d-7e3e5c73c388",
   "metadata": {},
   "outputs": [
    {
     "data": {
      "text/plain": [
       "120"
      ]
     },
     "execution_count": 12,
     "metadata": {},
     "output_type": "execute_result"
    }
   ],
   "source": [
    "fact(5)"
   ]
  },
  {
   "cell_type": "code",
   "execution_count": 7,
   "id": "fb343c22-fb6a-4361-a018-d7d208bc6da6",
   "metadata": {},
   "outputs": [],
   "source": [
    "#29. Check if a given number is a prime number\n",
    "\n",
    "def prime(n,k=2):\n",
    "    while(k<=n/2):\n",
    "        if n%k==0:\n",
    "            return \"Not prime\"\n",
    "            break\n",
    "        k+=1\n",
    "    return \"Prime\"\n",
    "    "
   ]
  },
  {
   "cell_type": "code",
   "execution_count": 10,
   "id": "307a3e84-16c6-41de-963b-85a6a5a3d789",
   "metadata": {},
   "outputs": [
    {
     "data": {
      "text/plain": [
       "'Prime'"
      ]
     },
     "execution_count": 10,
     "metadata": {},
     "output_type": "execute_result"
    }
   ],
   "source": [
    "prime(7)"
   ]
  },
  {
   "cell_type": "code",
   "execution_count": 5,
   "id": "2955e003-a42f-4921-a42a-131d0bca7abd",
   "metadata": {},
   "outputs": [],
   "source": [
    "#30. Generate the Fibonacci series up to a given number n\n",
    "\n",
    "def fibonacci(n):\n",
    "    a=0\n",
    "    b=1\n",
    "    k=3\n",
    "    lst=[]\n",
    "    lst.append(a)\n",
    "    lst.append(b)\n",
    "    while(k<=n):\n",
    "        c=a+b\n",
    "        lst.append(c)\n",
    "        a=b\n",
    "        b=c\n",
    "        k+=1\n",
    "    return lst\n",
    "        \n",
    "        "
   ]
  },
  {
   "cell_type": "code",
   "execution_count": 6,
   "id": "f402a15b-a7db-4e1b-86e0-56b23430909c",
   "metadata": {},
   "outputs": [
    {
     "data": {
      "text/plain": [
       "[0, 1, 1, 2, 3, 5, 8, 13]"
      ]
     },
     "execution_count": 6,
     "metadata": {},
     "output_type": "execute_result"
    }
   ],
   "source": [
    "fibonacci(8)"
   ]
  },
  {
   "cell_type": "code",
   "execution_count": 2,
   "id": "90b7378b-7032-4681-b786-4bc5c0e7a6b9",
   "metadata": {},
   "outputs": [],
   "source": [
    "#31. Calculate the power of a number using recursion.\n",
    "\n",
    "def power_recursion(base,exponent):\n",
    "    if exponent==0:\n",
    "        return 1\n",
    "    elif exponent==1:\n",
    "        return base\n",
    "    else:\n",
    "        return base*power_recursion(base,exponent-1)\n"
   ]
  },
  {
   "cell_type": "code",
   "execution_count": 3,
   "id": "17a6e763-92de-4eda-8534-2b81bdfac21a",
   "metadata": {},
   "outputs": [
    {
     "data": {
      "text/plain": [
       "81"
      ]
     },
     "execution_count": 3,
     "metadata": {},
     "output_type": "execute_result"
    }
   ],
   "source": [
    "power_recursion(3,4)"
   ]
  },
  {
   "cell_type": "code",
   "execution_count": null,
   "id": "65fc4460-0280-4245-aaf9-ff33ad194eaf",
   "metadata": {},
   "outputs": [],
   "source": []
  }
 ],
 "metadata": {
  "kernelspec": {
   "display_name": "Python 3 (ipykernel)",
   "language": "python",
   "name": "python3"
  },
  "language_info": {
   "codemirror_mode": {
    "name": "ipython",
    "version": 3
   },
   "file_extension": ".py",
   "mimetype": "text/x-python",
   "name": "python",
   "nbconvert_exporter": "python",
   "pygments_lexer": "ipython3",
   "version": "3.10.8"
  }
 },
 "nbformat": 4,
 "nbformat_minor": 5
}
