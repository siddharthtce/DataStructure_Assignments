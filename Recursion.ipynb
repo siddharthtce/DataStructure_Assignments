{
 "cells": [
  {
   "cell_type": "code",
   "execution_count": 4,
   "id": "848278b6-6590-4b20-8f1f-f58ed0fbdc26",
   "metadata": {},
   "outputs": [],
   "source": [
    "#3 Print the max value of the array [ 13, 1, -3, 22, 5]\n",
    "\n",
    "\n",
    "def maxValue(arr):\n",
    "    if len(arr)==0:\n",
    "        return None\n",
    "    else:\n",
    "        return maxValue2(arr,arr[0])\n",
    "    \n",
    "def maxValue2(arr,max):\n",
    "    if len(arr)==0:\n",
    "        return max\n",
    "    if arr[0]>max:\n",
    "        max=arr[0]\n",
    "    return maxValue2(arr[1:],max)"
   ]
  },
  {
   "cell_type": "code",
   "execution_count": 5,
   "id": "f68c7478-6882-49af-8308-d3e1d0340e4d",
   "metadata": {},
   "outputs": [
    {
     "data": {
      "text/plain": [
       "22"
      ]
     },
     "execution_count": 5,
     "metadata": {},
     "output_type": "execute_result"
    }
   ],
   "source": [
    "maxValue([ 13, 1, -3, 22, 5])"
   ]
  },
  {
   "cell_type": "code",
   "execution_count": 8,
   "id": "6c8e37a4-55a5-44c0-b4af-4d2170c7a2cc",
   "metadata": {},
   "outputs": [],
   "source": [
    "#4 Find the sum of the values of the array [92, 23, 15, -20, 10]\n",
    "\n",
    "def sumArray(arr):\n",
    "    if len(arr)==0:\n",
    "        return None\n",
    "    if len(arr)==1:\n",
    "        return arr[0]\n",
    "    else:\n",
    "        return arr[0]+sumArray(arr[1:])"
   ]
  },
  {
   "cell_type": "code",
   "execution_count": 9,
   "id": "9fd71a4f-a57e-46a3-8261-cd3115ad6520",
   "metadata": {},
   "outputs": [
    {
     "data": {
      "text/plain": [
       "120"
      ]
     },
     "execution_count": 9,
     "metadata": {},
     "output_type": "execute_result"
    }
   ],
   "source": [
    "sumArray([92, 23, 15, -20, 10])"
   ]
  },
  {
   "cell_type": "code",
   "execution_count": 30,
   "id": "41e1da57-9758-497a-bcd9-cdfb12ec9bfc",
   "metadata": {},
   "outputs": [],
   "source": [
    "#5 Given a number n. Print if it is an armstrong number or not\n",
    "\n",
    "def armstrong(num,l,sum,temp):\n",
    "    if temp==0:\n",
    "        if sum==num:\n",
    "            return \"Armstrong Number\"\n",
    "        else:\n",
    "            return \"Not Armstrong Number\"\n",
    "    \n",
    "    digit=temp%10\n",
    "    sum=sum+digit**l\n",
    "    temp=temp//10\n",
    "    return armstrong(num,l,sum,temp)\n"
   ]
  },
  {
   "cell_type": "code",
   "execution_count": 33,
   "id": "c24f59b4-88a4-4832-a464-074b70fe103f",
   "metadata": {},
   "outputs": [
    {
     "data": {
      "text/plain": [
       "'Armstrong Number'"
      ]
     },
     "execution_count": 33,
     "metadata": {},
     "output_type": "execute_result"
    }
   ],
   "source": [
    "num=153\n",
    "sum=0\n",
    "temp=num\n",
    "l=len(str(num))\n",
    "armstrong(num,l,sum,temp)"
   ]
  },
  {
   "cell_type": "code",
   "execution_count": null,
   "id": "c94c5268-0aeb-452a-b0ef-4582f40f7a25",
   "metadata": {},
   "outputs": [],
   "source": []
  }
 ],
 "metadata": {
  "kernelspec": {
   "display_name": "Python 3 (ipykernel)",
   "language": "python",
   "name": "python3"
  },
  "language_info": {
   "codemirror_mode": {
    "name": "ipython",
    "version": 3
   },
   "file_extension": ".py",
   "mimetype": "text/x-python",
   "name": "python",
   "nbconvert_exporter": "python",
   "pygments_lexer": "ipython3",
   "version": "3.10.8"
  }
 },
 "nbformat": 4,
 "nbformat_minor": 5
}
