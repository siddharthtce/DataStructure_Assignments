{
 "cells": [
  {
   "cell_type": "markdown",
   "id": "0d73bf03-a94c-42e9-a89a-8a0c7ce87a6a",
   "metadata": {},
   "source": [
    "# Find time complexity of below code blocks"
   ]
  },
  {
   "cell_type": "markdown",
   "id": "8f7a22dd-7853-4aee-89b5-b32bd856e254",
   "metadata": {},
   "source": [
    "# Problem 1\n",
    "\n",
    "def quicksort(arr):\n",
    "if len(arr) <= 1:\n",
    "return arr\n",
    "pivot = arr[len(arr) // 2]\n",
    "left = [x for x in arr if x < pivot]\n",
    "middle = [x for x in arr if x == pivot]\n",
    "right = [x for x in arr if x > pivot]\n",
    "return quicksort(left) + middle + quicksort(right)\n",
    "\n",
    "Time Complexity - O(nlogn)"
   ]
  },
  {
   "cell_type": "markdown",
   "id": "2b405ebe-4d63-4e94-9ea6-14cf33a84921",
   "metadata": {},
   "source": [
    "# Problem 2\n",
    "\n",
    "def nested_loop_example(matrix):\n",
    "rows, cols = len(matrix), len(matrix[0])\n",
    "total = 0\n",
    "for i in range(rows):\n",
    "for j in range(cols):\n",
    "total += matrix[i][j]\n",
    "return total\n",
    "\n",
    "\n",
    "Time Complexity - O(n^2)"
   ]
  },
  {
   "cell_type": "markdown",
   "id": "e06612dc-d18a-4938-8aab-8fd6d7474738",
   "metadata": {},
   "source": [
    "# Problem 3\n",
    "\n",
    "def example_function(arr):\n",
    "result = 0\n",
    "for element in arr:\n",
    "result += element\n",
    "return result\n",
    "\n",
    "\n",
    "Time Complexity - O(n)"
   ]
  },
  {
   "cell_type": "markdown",
   "id": "0d871115-4eef-4705-82ef-fdcea3c1e455",
   "metadata": {},
   "source": [
    "# Problem 4 \n",
    "\n",
    "def longest_increasing_subsequence(nums):\n",
    "n = len(nums)\n",
    "lis = [1] * n\n",
    "for i in range(1, n):\n",
    "for j in range(0, i):\n",
    "if nums[i] > nums[j] and lis[i] < lis[j] + 1:\n",
    "lis[i] = lis[j] + 1\n",
    "return max(lis)\n",
    "\n",
    "\n",
    "Time Complexity - O(n^2)"
   ]
  },
  {
   "cell_type": "markdown",
   "id": "cc9e3822-8fb7-4283-83a9-01b4fde144b0",
   "metadata": {},
   "source": [
    "# Problem 5\n",
    "\n",
    "def mysterious_function(arr):\n",
    "n = len(arr)\n",
    "result = 0\n",
    "for i in range(n):\n",
    "for j in range(i, n):\n",
    "result += arr[i] * arr[j]\n",
    "return result\n",
    "\n",
    "\n",
    "Time Complexity - O(n^2)"
   ]
  },
  {
   "cell_type": "markdown",
   "id": "20133185-27d7-4aca-8921-13727d2c7a16",
   "metadata": {},
   "source": [
    "# Solve the following problems on recursion"
   ]
  },
  {
   "cell_type": "code",
   "execution_count": 3,
   "id": "9ebd7b21-17e9-4827-a614-310493575a62",
   "metadata": {},
   "outputs": [],
   "source": [
    "# Problem 6 : Sum of Digits\n",
    "\n",
    "def sumOfDigits(n):\n",
    "    if n<10:\n",
    "        return n\n",
    "    else:\n",
    "        return n%10+sumOfDigits(n//10)"
   ]
  },
  {
   "cell_type": "code",
   "execution_count": 4,
   "id": "542c3de7-1a7e-4e31-9654-3041f19756fb",
   "metadata": {},
   "outputs": [
    {
     "data": {
      "text/plain": [
       "6"
      ]
     },
     "execution_count": 4,
     "metadata": {},
     "output_type": "execute_result"
    }
   ],
   "source": [
    "sumOfDigits(123)"
   ]
  },
  {
   "cell_type": "code",
   "execution_count": 5,
   "id": "74c3359b-8b94-4523-b0b8-27d47e36d2fc",
   "metadata": {},
   "outputs": [
    {
     "data": {
      "text/plain": [
       "5"
      ]
     },
     "execution_count": 5,
     "metadata": {},
     "output_type": "execute_result"
    }
   ],
   "source": [
    "sumOfDigits(5)"
   ]
  },
  {
   "cell_type": "code",
   "execution_count": 6,
   "id": "faf52490-971d-44f2-b65b-8475fc5dcfbe",
   "metadata": {},
   "outputs": [],
   "source": [
    "# Problem 7: Fibonacci Series\n",
    "\n",
    "def fibonacci(n):\n",
    "    if n<=1:\n",
    "        return n\n",
    "    else:\n",
    "        return fibonacci(n-1)+fibonacci(n-2)"
   ]
  },
  {
   "cell_type": "code",
   "execution_count": 8,
   "id": "3a109051-fa8c-4c63-a6a7-e0f2314c1d7d",
   "metadata": {},
   "outputs": [
    {
     "data": {
      "text/plain": [
       "8"
      ]
     },
     "execution_count": 8,
     "metadata": {},
     "output_type": "execute_result"
    }
   ],
   "source": [
    "fibonacci(6)"
   ]
  },
  {
   "cell_type": "code",
   "execution_count": 10,
   "id": "d92086b6-8c1e-4438-9577-0b0adaa5838c",
   "metadata": {},
   "outputs": [
    {
     "name": "stdout",
     "output_type": "stream",
     "text": [
      "0\n",
      "1\n",
      "1\n",
      "2\n",
      "3\n",
      "5\n"
     ]
    }
   ],
   "source": [
    "for i in range(6):\n",
    "    print(fibonacci(i))"
   ]
  },
  {
   "cell_type": "code",
   "execution_count": 13,
   "id": "0cfc23a5-ab99-4213-ac08-ad00bcd5314b",
   "metadata": {},
   "outputs": [],
   "source": [
    "# Problem 8 : Subset Sum\n",
    "\n",
    "def subsetSum(arr,sum):\n",
    "    for i in range(len(arr)):\n",
    "        for j in range(1,len(arr)-1):\n",
    "            if arr[i]+arr[j]==sum:\n",
    "                return True\n",
    "    return False"
   ]
  },
  {
   "cell_type": "code",
   "execution_count": 17,
   "id": "0abd9f99-92cd-494f-94d6-ccf70cf198bf",
   "metadata": {},
   "outputs": [
    {
     "data": {
      "text/plain": [
       "True"
      ]
     },
     "execution_count": 17,
     "metadata": {},
     "output_type": "execute_result"
    }
   ],
   "source": [
    "subsetSum([3, 34, 4, 12, 5, 2], 14)"
   ]
  },
  {
   "cell_type": "code",
   "execution_count": null,
   "id": "e8fa16dc-58b2-41f3-9aab-a2604700fd1c",
   "metadata": {},
   "outputs": [],
   "source": []
  }
 ],
 "metadata": {
  "kernelspec": {
   "display_name": "Python 3 (ipykernel)",
   "language": "python",
   "name": "python3"
  },
  "language_info": {
   "codemirror_mode": {
    "name": "ipython",
    "version": 3
   },
   "file_extension": ".py",
   "mimetype": "text/x-python",
   "name": "python",
   "nbconvert_exporter": "python",
   "pygments_lexer": "ipython3",
   "version": "3.10.8"
  }
 },
 "nbformat": 4,
 "nbformat_minor": 5
}
